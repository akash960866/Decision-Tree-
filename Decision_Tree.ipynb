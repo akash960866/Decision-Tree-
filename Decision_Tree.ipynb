{
  "nbformat": 4,
  "nbformat_minor": 0,
  "metadata": {
    "colab": {
      "provenance": []
    },
    "kernelspec": {
      "name": "python3",
      "display_name": "Python 3"
    },
    "language_info": {
      "name": "python"
    }
  },
  "cells": [
    {
      "cell_type": "code",
      "execution_count": 1,
      "metadata": {
        "id": "8u2fEj3aB4bz"
      },
      "outputs": [],
      "source": [
        "#####################  Theoretical. ####################\n",
        "\n",
        "# Que 1 What is a Decision Tree, and how does it work\t?\n",
        "\n",
        "#   Tree Building: The tree is built by splitting the source set, which constitutes the root node of the tree, into subsets—which constitute the successor children\n",
        "#   The splitting is based on a set of splitting rules based on features. This process is repeated on each derived subset in a recursive manner called recursive partitioning.\n",
        "#   Splitting: The algorithm chooses the best attribute to split the data at each step. The \"best\" attribute is the one that does the best job of separating the data\n",
        "#   into distinct classes. There are a few common metrics for measuring this:\n",
        "#.  Gini Impurity: Measures the frequency at which any element from the set would be incorrectly labeled if it was randomly labeled according to the distribution of labels in the subset.\n",
        "#   Information Gain: Is based on the concept of entropy from information theory. Entropy is a measure of impurity or uncertainty in a group of examples.\n",
        "#   Information gain is the reduction in entropy that results from splitting the data on an attribute.\n",
        "#.  Stopping: The recursion stops when one of the following conditions is met:\n",
        "#   All instances in a subset belong to the same class.\n",
        "#   There are no more attributes to split on.\n",
        "#.  The tree has reached a maximum depth.\n",
        "#   The number of instances in a node is below a certain threshold.\n",
        "#.  Pruning: After the tree is built, it may be \"pruned\" to reduce its size and complexity, which can help to prevent overfitting.\n",
        "#   Overfitting is when the model learns the training data too well and performs poorly on new, unseen data. Pruning involves removing the branches that have weak predictive power.\n",
        "\n"
      ]
    },
    {
      "cell_type": "code",
      "source": [
        "# Que 2 What are impurity measures in Decision Trees\n",
        "\n",
        "#  Impurity measures are used in decision tree algorithms to evaluate how well a split separates the data into different classes. A lower impurity means a better split. The two most common impurity measures are:\n",
        "\n",
        "# 1. Gini Impurity:\n",
        "# Gini impurity measures the frequency at which any element from the set would be incorrectly labeled if it was randomly labeled according to the distribution of labels in the subset.\n",
        "# The formula for Gini impurity is:\n",
        "# Gini = 1 - Σ(p_i)^2\n",
        "# where p_i is the probability of an element being in class i.\n",
        "# A Gini score of 0 means the node is pure (all elements belong to the same class), while a Gini score of 0.5 means the node is impure (elements are equally distributed among the classes).\n",
        "\n",
        "# 2. Information Gain (using Entropy):\n",
        "# Information gain is based on the concept of entropy from information theory. Entropy is a measure of impurity or uncertainty in a group of examples.\n",
        "# The formula for entropy is:\n",
        "# Entropy = -Σ(p_i * log2(p_i))\n",
        "# where p_i is the probability of an element being in class i.\n",
        "# An entropy of 0 means the node is pure, while an entropy of 1 means the node is impure.\n",
        "# Information gain is the reduction in entropy that results from splitting the data on an attribute. The attribute with the highest information gain is chosen as the best split."
      ],
      "metadata": {
        "id": "LKrCRby4DDge"
      },
      "execution_count": null,
      "outputs": []
    },
    {
      "cell_type": "code",
      "metadata": {
        "id": "7608b4a8"
      },
      "source": [
        "# Que 3 What is the mathematical formula for Gini Impurity\n",
        "\n",
        "# The mathematical formula for Gini Impurity is:\n",
        "# Gini = 1 - Σ(p_i)^2\n",
        "# Where:\n",
        "# p_i is the probability of an element being in class i.\n",
        "# Σ represents the sum over all classes.\n",
        "# A Gini score of 0 indicates that the node is pure (all elements belong to the same class), while a Gini score of 0.5 indicates that the node is impure (elements are equally distributed among the classes)."
      ],
      "execution_count": null,
      "outputs": []
    },
    {
      "cell_type": "code",
      "metadata": {
        "id": "2b92a980"
      },
      "source": [
        "# Que 4 What is the mathematical formula for Entropy\n",
        "\n",
        "# The mathematical formula for Entropy is:\n",
        "# Entropy = -Σ(p_i * log2(p_i))\n",
        "# Where:\n",
        "# p_i is the probability of an element being in class i.\n",
        "# Σ represents the sum over all classes.\n",
        "# An entropy of 0 indicates that the node is pure (all elements belong to the same class), while an entropy of 1 indicates that the node is impure (elements are equally distributed among the classes)."
      ],
      "execution_count": null,
      "outputs": []
    },
    {
      "cell_type": "code",
      "metadata": {
        "id": "c6514cec"
      },
      "source": [
        "# Que 5 What is Information Gain, and how is it used in Decision Trees\n",
        "\n",
        "# Information Gain is a metric used to train Decision Trees. Specifically, it's used to decide which feature to split on at each step in building the tree. It is the reduction in entropy or surprise by splitting a dataset according to a given value of a random variable.\n",
        "\n",
        "# How it's calculated:\n",
        "# Information Gain = Entropy(parent) - [Weighted Average] * Entropy(children)\n",
        "\n",
        "# Where:\n",
        "# - Entropy(parent) is the entropy of the dataset before the split.\n",
        "# - Entropy(children) is the entropy of the subsets created by the split.\n",
        "# - The weighted average is the proportion of samples that go into each child node.\n",
        "\n",
        "# How it's used in Decision Trees:\n",
        "# 1. For each feature, the algorithm calculates the information gain if the data were to be split on that feature.\n",
        "# 2. The feature with the highest information gain is chosen as the splitting feature for the current node.\n",
        "# 3. The data is split into subsets based on the values of the chosen feature.\n",
        "# 4. This process is repeated recursively for each subset until a stopping criterion is met (e.g., all samples in a node belong to the same class, or the maximum depth of the tree is reached).\n",
        "\n",
        "# In essence, the goal is to choose the split that results in the most \"pure\" child nodes, meaning the nodes with the lowest entropy. By maximizing information gain, the algorithm is effectively minimizing the entropy of the resulting subsets."
      ],
      "execution_count": null,
      "outputs": []
    },
    {
      "cell_type": "code",
      "metadata": {
        "id": "519241ad"
      },
      "source": [
        "# Que 6 What is the difference between Gini Impurity and Entropy\n",
        "\n",
        "# Gini Impurity and Entropy are both measures of impurity used in decision trees, but they have some key differences:\n",
        "\n",
        "# 1. Calculation:\n",
        "#    - Gini Impurity: 1 - Σ(p_i)^2\n",
        "#    - Entropy: -Σ(p_i * log2(p_i))\n",
        "#    - Gini Impurity is computationally less expensive than Entropy because it doesn't involve a logarithmic calculation.\n",
        "\n",
        "# 2. Range of Values:\n",
        "#    - Gini Impurity: [0, 0.5] for binary classification.\n",
        "#    - Entropy: [0, 1] for binary classification.\n",
        "\n",
        "# 3. Sensitivity to Changes in Class Probabilities:\n",
        "#    - Entropy is more sensitive to changes in the probability of the classes. It penalizes impurity more heavily.\n",
        "#    - Gini Impurity is less sensitive to changes in class probabilities.\n",
        "\n",
        "# 4. Resulting Trees:\n",
        "#    - In practice, the choice between Gini Impurity and Entropy doesn't make a huge difference in the final accuracy of the tree.\n",
        "#    - However, Entropy might lead to slightly more balanced trees.\n",
        "\n",
        "# In summary:\n",
        "# - Use Gini Impurity for speed, as it's computationally faster.\n",
        "# - Use Entropy for a slightly more balanced tree, but at the cost of a bit more computation.\n",
        "# By default, the CART (Classification and Regression Tree) algorithm uses Gini Impurity."
      ],
      "execution_count": null,
      "outputs": []
    },
    {
      "cell_type": "code",
      "metadata": {
        "id": "81deebae"
      },
      "source": [
        "# Que 7 What is the mathematical explanation behind Decision Trees\n",
        "\n",
        "# The mathematical explanation behind decision trees lies in how they choose the best feature to split the data at each node. This process is driven by the concept of minimizing impurity or maximizing information gain. Let's break down the key mathematical concepts:\n",
        "\n",
        "# 1. Impurity Measures:\n",
        "#    - The goal of a split is to create child nodes that are more \"pure\" than the parent node. Purity means that the samples in a node are more homogeneous in terms of their class labels.\n",
        "#    - We use impurity measures to quantify the level of \"mixed-up-ness\" of classes in a node. The two most common measures are Gini Impurity and Entropy.\n",
        "\n",
        "# 2. Gini Impurity:\n",
        "#    - For a given node, the Gini Impurity is calculated as:\n",
        "#      Gini = 1 - Σ(p_i)^2\n",
        "#      where p_i is the proportion of samples of class i in that node.\n",
        "#    - A Gini score of 0 means the node is perfectly pure (all samples belong to one class). A Gini score of 0.5 (for binary classification) indicates maximum impurity.\n",
        "\n",
        "# 3. Entropy:\n",
        "#    - Entropy is another measure of impurity, borrowed from information theory. It's calculated as:\n",
        "#      Entropy = -Σ(p_i * log2(p_i))\n",
        "#      where p_i is the proportion of samples of class i in that node.\n",
        "#    - Entropy is 0 for a perfectly pure node and 1 for a node with maximum impurity (for binary classification).\n",
        "\n",
        "# 4. Information Gain:\n",
        "#    - Information Gain is the metric that guides the splitting process. It measures the reduction in impurity after a split.\n",
        "#    - The formula for Information Gain is:\n",
        "#      Information Gain = Impurity(parent) - [Weighted Average] * Impurity(children)\n",
        "#      where Impurity can be either Gini Impurity or Entropy.\n",
        "#    - The \"Weighted Average\" is calculated by considering the proportion of samples that go into each child node.\n",
        "#    - The decision tree algorithm calculates the Information Gain for every possible split (i.e., for each feature and each possible split point). It then chooses the split that maximizes the Information Gain.\n",
        "\n",
        "# In essence, the mathematical foundation of a decision tree is an optimization problem. At each node, we are trying to find the feature and split point that will result in the largest reduction in impurity, as measured by Information Gain. This process is repeated recursively until a stopping criterion is met, resulting in a tree that has learned a set of rules to classify the data."
      ],
      "execution_count": null,
      "outputs": []
    },
    {
      "cell_type": "code",
      "metadata": {
        "id": "3d55c0d4"
      },
      "source": [
        "# Que 8 What is Pre-Pruning in Decision Trees\n",
        "\n",
        "# Pre-pruning, also known as early stopping, is a technique used in decision tree learning to prevent the tree from overfitting the training data. Overfitting occurs when the model learns the training data too well, including its noise and outliers, and as a result, performs poorly on new, unseen data.\n",
        "\n",
        "# How Pre-Pruning Works:\n",
        "# Pre-pruning involves setting a stopping criterion for the tree-building process. The tree stops growing as soon as it meets this criterion, even if it means the leaf nodes are not perfectly pure.\n",
        "\n",
        "# Common Pre-Pruning Techniques:\n",
        "# 1. Maximum Depth: Limit the maximum depth of the tree. A shallower tree is less complex and less likely to overfit.\n",
        "# 2. Minimum Samples per Leaf: Specify the minimum number of samples that a leaf node must have. This prevents the tree from creating leaves for very small groups of samples, which could be noise.\n",
        "# 3. Minimum Samples per Split: Specify the minimum number of samples required to split an internal node. This is similar to the previous technique but applies to internal nodes.\n",
        "# 4. Maximum Number of Leaf Nodes: Limit the total number of leaf nodes in the tree.\n",
        "# 5. Minimum Impurity Decrease: Stop splitting a node if the split does not decrease the impurity by at least a certain threshold.\n",
        "\n",
        "# Advantages of Pre-Pruning:\n",
        "# - It is computationally efficient because it stops the tree from growing to its full complexity.\n",
        "# - It can help to create simpler and more interpretable trees.\n",
        "\n",
        "# Disadvantages of Pre-Pruning:\n",
        "# - It can be difficult to choose the right stopping criteria. If the criteria are too strict, the tree may be too simple and underfit the data. If they are too loose, the tree may still overfit.\n",
        "# - It can be greedy, meaning that it might stop growing the tree too early, even if a further split would have been beneficial."
      ],
      "execution_count": null,
      "outputs": []
    },
    {
      "cell_type": "code",
      "metadata": {
        "id": "0a28337a"
      },
      "source": [
        "# Que 9 What is Post-Pruning in Decision Trees\n",
        "\n",
        "# Post-pruning, also known as backward pruning, is another technique to prevent overfitting in decision trees. Unlike pre-pruning, post-pruning allows the tree to grow to its full complexity first and then prunes it back.\n",
        "\n",
        "# How Post-Pruning Works:\n",
        "# 1. Grow the full tree: The decision tree is grown to its maximum size, fitting the training data as closely as possible.\n",
        "# 2. Prune the tree: Starting from the bottom, subtrees are replaced with a single leaf node if the replacement results in a lower or similar error rate on a validation set. The leaf node is assigned the most common class of the subtree it replaces.\n",
        "\n",
        "# Common Post-Pruning Techniques:\n",
        "# 1. Reduced Error Pruning: This is the simplest and most intuitive pruning method. It works by replacing each node with its most popular class and evaluating the accuracy on a separate validation set. If the accuracy is not worse, the change is kept.\n",
        "# 2. Cost Complexity Pruning (CCP): This method, also known as weakest link pruning, is more complex. It considers the trade-off between the complexity of the tree and its error rate. A cost-complexity parameter (alpha) is used to control this trade-off. The tree is pruned by removing the weakest link (the subtree that gives the least increase in error per pruned leaf).\n",
        "\n",
        "# Advantages of Post-Pruning:\n",
        "# - It is generally more effective than pre-pruning because it considers the entire tree before making pruning decisions. This avoids the \"greedy\" nature of pre-pruning.\n",
        "\n",
        "# Disadvantages of Post-Pruning:\n",
        "# - It is computationally more expensive than pre-pruning because it requires growing the full tree first.\n",
        "# - It requires a separate validation set to evaluate the pruned trees."
      ],
      "execution_count": null,
      "outputs": []
    },
    {
      "cell_type": "code",
      "metadata": {
        "id": "39d0ae6d"
      },
      "source": [
        "# Que 10 What is the difference between Pre-Pruning and Post-Pruning\n",
        "\n",
        "# Pre-pruning and post-pruning are two different strategies to prevent a decision tree from overfitting. Here's a breakdown of their key differences:\n",
        "\n",
        "# 1. Timing:\n",
        "#    - Pre-pruning (Early Stopping): Pruning takes place during the tree building process.\n",
        "#    - Post-pruning (Backward Pruning): Pruning takes place after the tree is fully grown.\n",
        "\n",
        "# 2. Approach:\n",
        "#    - Pre-pruning: It's a \"stop-early\" approach. The tree growth is halted when a certain condition is met (e.g., max depth, min samples).\n",
        "#    - Post-pruning: It's a \"grow-then-prune\" approach. The full tree is built, and then branches are removed if they don't improve performance on a validation set.\n",
        "\n",
        "# 3. Computational Cost:\n",
        "#    - Pre-pruning: It's computationally cheaper because it doesn't build the full tree.\n",
        "#    - Post-pruning: It's more computationally expensive because it requires building the full tree first and then pruning it.\n",
        "\n",
        "# 4. Effectiveness:\n",
        "#    - Pre-pruning: It can be \"greedy\" and stop too early, potentially missing out on beneficial splits that would have appeared later.\n",
        "#    - Post-pruning: It's generally more effective as it considers the whole tree before making pruning decisions, leading to a more optimal tree.\n",
        "\n",
        "# 5. Data Usage:\n",
        "#    - Pre-pruning: It doesn't require a separate validation set.\n",
        "#    - Post-pruning: It typically requires a separate validation set to evaluate the effect of pruning.\n",
        "\n",
        "# In Summary:\n",
        "\n",
        "# | Feature          | Pre-Pruning (Early Stopping)     | Post-Pruning (Backward Pruning) |\n",
        "# |------------------|------------------------------------|---------------------------------|\n",
        "# | **When**         | During tree construction         | After tree construction         |\n",
        "# | **How**          | Stop growing the tree early        | Prune branches from a full tree   |\n",
        "# | **Pros**         | Faster, less computationally expensive | More optimal, less likely to underfit |\n",
        "# | **Cons**         | Can be greedy and stop too early | Slower, more computationally expensive |\n",
        "# | **Data**         | No validation set needed       | Requires a validation set       |"
      ],
      "execution_count": null,
      "outputs": []
    },
    {
      "cell_type": "code",
      "metadata": {
        "id": "4f002ed1"
      },
      "source": [
        "# Que 11 What is a Decision Tree Regressor\n",
        "\n",
        "# A Decision Tree Regressor is a type of decision tree that is used for solving regression problems. Unlike a classification tree, which predicts a categorical class label, a regression tree predicts a continuous value.\n",
        "\n",
        "# How it works:\n",
        "# The process of building a Decision Tree Regressor is similar to that of a classification tree. The tree is built by splitting the data into subsets based on the values of the features. However, the splitting criterion is different. Instead of using impurity measures like Gini Impurity or Entropy, a regression tree uses a metric that measures the homogeneity of the target values within the subsets. The most common metric is Mean Squared Error (MSE).\n",
        "\n",
        "# The goal is to find the splits that minimize the MSE. The process is repeated recursively until a stopping criterion is met.\n",
        "\n",
        "# Prediction:\n",
        "# Once the tree is built, making a prediction for a new data point is straightforward. The data point is passed down the tree, and the prediction is the average of the target values of the training instances that fall into the same leaf node."
      ],
      "execution_count": null,
      "outputs": []
    },
    {
      "cell_type": "code",
      "metadata": {
        "id": "5c89f018"
      },
      "source": [
        "# Que 12 What are the advantages and disadvantages of Decision Trees\n",
        "\n",
        "# Advantages of Decision Trees:\n",
        "\n",
        "# 1.  Easy to Understand and Interpret:** Decision trees are very intuitive and can be visualized, making them easy to understand for both technical and non-technical audiences.\n",
        "# 2.  Requires Little Data Preparation:** Decision trees can handle both numerical and categorical data and are not sensitive to outliers or missing values. They also don't require feature scaling or normalization.\n",
        "# 3.  Non-parametric:** Decision trees do not assume any underlying distribution for the data.\n",
        "# 4.  Can Handle Multi-output Problems:** Decision trees can be used to predict multiple outputs at once.\n",
        "\n",
        "# Disadvantages of Decision Trees:\n",
        "\n",
        "# 1.  Overfitting:** Decision trees are prone to overfitting, especially when the tree is deep. This means that the model learns the training data too well and performs poorly on new, unseen data. Pruning techniques can help to mitigate this.\n",
        "# 2.  Instability:** Small changes in the data can lead to a completely different tree being generated. This is because the tree is built using a greedy approach.\n",
        "# 3.  Biased towards Features with More Levels:** Decision trees can be biased towards features with more levels.\n",
        "# 4.  Can be Computationally Expensive:** The process of building a decision tree can be computationally expensive, especially for large datasets."
      ],
      "execution_count": null,
      "outputs": []
    },
    {
      "cell_type": "code",
      "metadata": {
        "id": "d275b2a5"
      },
      "source": [
        "# Que 13 How does a Decision Tree handle missing values\n",
        "\n",
        "# Decision trees have a robust and effective way of handling missing values. Here are some of the common techniques:\n",
        "\n",
        "# 1.    Attribute Test:** During the splitting process, if a sample has a missing value for a particular attribute, it can be handled in a few ways:\n",
        "#    Distribute the sample:** The sample with the missing value can be sent down to all the child nodes, but with a diminished weight. For example, if a node is split into three children with sample proportions of 30%, 30%, and 40%, the sample with the missing value is sent to all three children with weights of 0.3, 0.3, and 0.4 respectively.\n",
        "#     Assign to the most probable child:** The sample can be assigned to the child node that has the highest number of samples.\n",
        "#   Create a separate node for missing values:** A separate branch can be created for samples with missing values.\n",
        "\n",
        "# 2.   During Prediction:** When making a prediction for a new sample with a missing value, the tree can again use a few strategies:\n",
        "#    xplore all possible paths:** The sample can be sent down all possible paths, and the final prediction can be a weighted average of the predictions from all the leaf nodes reached.\n",
        "#     Assign to the most probable path:** The sample can be sent down the path that is most probable based on the training data."
      ],
      "execution_count": null,
      "outputs": []
    },
    {
      "cell_type": "code",
      "metadata": {
        "id": "b76c79f5"
      },
      "source": [
        "# Que 14 How does a Decision Tree handle categorical features\n",
        "\n",
        "# Decision trees can handle categorical features naturally. Here's how:\n",
        "\n",
        "# 1.  Binary Splits (for nominal features):** If a categorical feature has more than two categories (e.g., \"red,\" \"green,\" \"blue\"), the tree can create a binary split by grouping the categories. For example, it could split on \"is the color red?\" vs. \"is the color not red?\". The tree will try all possible binary splits of the categories and choose the one that results in the highest information gain.\n",
        "\n",
        "# 2.  Multi-way Splits (for nominal features):** Some decision tree algorithms can create a multi-way split, where each category of the feature gets its own branch. However, this can lead to data fragmentation and overfitting, so binary splits are often preferred.\n",
        "\n",
        "# 3.  Ordinal Features:** If the categorical feature is ordinal (e.g., \"low,\" \"medium,\" \"high\"), the tree can treat it like a continuous feature and find the best split point. For example, it could split on \"is the level low or medium?\" vs. \"is the level high?\"."
      ],
      "execution_count": null,
      "outputs": []
    },
    {
      "cell_type": "code",
      "metadata": {
        "id": "7127b8d2"
      },
      "source": [
        "# Que 15 What are some real-world applications of Decision Trees?\n",
        "\n",
        "# Decision trees are widely used in various fields due to their interpretability and ease of use. Here are some real-world applications:\n",
        "\n",
        "# 1.  **Healthcare:**\n",
        "#      Disease Prediction:** Predicting the likelihood of a patient having a certain disease based on their symptoms and medical history.\n",
        "#      Treatment Effectiveness:** Identifying the most effective treatment for a particular condition.\n",
        "\n",
        "# 2.   Finance:**\n",
        "#      Credit Scoring:** Assessing the creditworthiness of a loan applicant.\n",
        "#      Fraud Detection:** Identifying fraudulent transactions.\n",
        "\n",
        "# 3.   Marketing:**\n",
        "#      Customer Segmentation:** Grouping customers into different segments based on their purchasing behavior.\n",
        "#      Targeted Advertising:** Identifying the most likely customers to respond to a particular marketing campaign.\n",
        "\n",
        "# 4.  Manufacturing:**\n",
        "#        Quality Control:** Identifying defective products based on their features.\n",
        "#        Predictive Maintenance:** Predicting when a machine is likely to fail.\n",
        "\n",
        "# 5.  E-commerce:**\n",
        "#        Product Recommendation:** Recommending products to customers based on their browsing history.\n",
        "#        Churn Prediction:** Predicting which customers are likely to stop using a service."
      ],
      "execution_count": null,
      "outputs": []
    },
    {
      "cell_type": "code",
      "source": [
        "#####################  Practical. ##################\n"
      ],
      "metadata": {
        "id": "M9sS9L8qGSUn"
      },
      "execution_count": null,
      "outputs": []
    },
    {
      "cell_type": "code",
      "metadata": {
        "colab": {
          "base_uri": "https://localhost:8080/"
        },
        "id": "9f0c40c3",
        "outputId": "b04250b6-d441-470f-97d6-b00b4e1ea8ed"
      },
      "source": [
        "#Que 1   Write a Python program to train a Decision Tree Classifier on the Iris dataset and print the model accuracy\n",
        "\n",
        "# Import necessary libraries\n",
        "from sklearn.datasets import load_iris\n",
        "from sklearn.model_selection import train_test_split\n",
        "from sklearn.tree import DecisionTreeClassifier\n",
        "from sklearn.metrics import accuracy_score\n",
        "\n",
        "# Load the iris dataset\n",
        "iris = load_iris()\n",
        "X = iris.data\n",
        "y = iris.target\n",
        "\n",
        "# Split the dataset into training and testing sets\n",
        "X_train, X_test, y_train, y_test = train_test_split(X, y, test_size=0.3, random_state=42)\n",
        "\n",
        "# Create a Decision Tree Classifier object\n",
        "clf = DecisionTreeClassifier()\n",
        "\n",
        "# Train the Decision Tree Classifier\n",
        "clf = clf.fit(X_train,y_train)\n",
        "\n",
        "#Predict the response for test dataset\n",
        "y_pred = clf.predict(X_test)\n",
        "\n",
        "# Model Accuracy, how often is the classifier correct?\n",
        "print(\"Accuracy:\",accuracy_score(y_test, y_pred))\n",
        "\n",
        "# Print feature importances\n",
        "print(\"Feature Importances:\", clf.feature_importances_)"
      ],
      "execution_count": 2,
      "outputs": [
        {
          "output_type": "stream",
          "name": "stdout",
          "text": [
            "Accuracy: 1.0\n"
          ]
        }
      ]
    },
    {
      "cell_type": "code",
      "source": [
        "#Que 2 * Write a Python program to train a Decision Tree Classifier using Gini Impurity as the criterion and print the\n",
        "#         feature importances\n",
        "\n",
        "import numpy as np\n",
        "import pandas as pd\n",
        "import matplotlib.pyplot as plt\n",
        "from sklearn.datasets import load_iris\n",
        "from sklearn.tree import DecisionTreeClassifier\n",
        "from sklearn.model_selection import train_test_split\n",
        "\n",
        "# 1. Load the Iris dataset\n",
        "iris = load_iris()\n",
        "X = pd.DataFrame(iris.data, columns=iris.feature_names)\n",
        "y = iris.target\n",
        "\n",
        "# 2. Train‑validation split (optional)\n",
        "X_train, X_val, y_train, y_val = train_test_split(\n",
        "    X, y, test_size=0.3, random_state=0, stratify=y\n",
        ")\n",
        "\n",
        "# 3. Instantiate Decision Tree with Gini impurity\n",
        "clf = DecisionTreeClassifier(criterion='gini', random_state=0)\n",
        "\n",
        "# 4. Fit the model\n",
        "clf.fit(X_train, y_train)\n",
        "\n",
        "# 5. Extract and print feature importances\n",
        "importances = clf.feature_importances_\n",
        "feature_importance_df = (\n",
        "    pd.DataFrame({\n",
        "        'feature': iris.feature_names,\n",
        "        'importance': importances\n",
        "    })\n",
        "    .sort_values(by='importance', ascending=False)\n",
        "    .reset_index(drop=True)\n",
        ")\n",
        "\n",
        "print(\"Feature importances (Gini‑based):\\n\")\n",
        "print(feature_importance_df)\n",
        "\n",
        "# 6. Optional: bar plot for visualizing importances\n",
        "plt.figure(figsize=(8, 6))\n",
        "plt.barh(\n",
        "    feature_importance_df['feature'][::-1],\n",
        "    feature_importance_df['importance'][::-1],\n",
        "    color='skyblue'\n",
        ")\n",
        "plt.title('Feature Importances\\n(Decision Tree using Gini)')\n",
        "plt.xlabel('Normalized importance (sum = 1)')\n",
        "plt.tight_layout()\n",
        "plt.show()\n"
      ],
      "metadata": {
        "colab": {
          "base_uri": "https://localhost:8080/",
          "height": 732
        },
        "id": "a_OtQ9kVHX9m",
        "outputId": "d20455c4-40e2-471b-f889-ce01e2ee42f2"
      },
      "execution_count": 3,
      "outputs": [
        {
          "output_type": "stream",
          "name": "stdout",
          "text": [
            "Feature importances (Gini‑based):\n",
            "\n",
            "             feature  importance\n",
            "0   petal width (cm)    0.949807\n",
            "1  petal length (cm)    0.031145\n",
            "2  sepal length (cm)    0.019048\n",
            "3   sepal width (cm)    0.000000\n"
          ]
        },
        {
          "output_type": "display_data",
          "data": {
            "text/plain": [
              "<Figure size 800x600 with 1 Axes>"
            ],
            "image/png": "[encoded data removed]"
          },
          "metadata": {}
        }
      ]
    },
    {
      "cell_type": "code",
      "source": [
        "#Que 3 Write a Python program to train a Decision Tree Classifier using Entropy as the splitting criterion and print the\n",
        "#      model accuracy\n",
        "\n",
        "import numpy as np\n",
        "import pandas as pd\n",
        "from sklearn.datasets import load_iris\n",
        "from sklearn.tree import DecisionTreeClassifier\n",
        "from sklearn.model_selection import train_test_split\n",
        "from sklearn.metrics import accuracy_score\n",
        "\n",
        "# Load Iris dataset (for demonstration)\n",
        "data = load_iris()\n",
        "X = pd.DataFrame(data.data,     columns=data.feature_names)\n",
        "y = data.target\n",
        "\n",
        "# Split into train and test (80/20), stratify to keep class balance\n",
        "X_train, X_test, y_train, y_test = train_test_split(\n",
        "    X, y, test_size=0.20, random_state=42, stratify=y\n",
        ")\n",
        "\n",
        "# Instantiate and train a Decision Tree using entropy (information gain)\n",
        "clf = DecisionTreeClassifier(\n",
        "    criterion=\"entropy\",  # choose entropy-based split (not the default 'gini')\n",
        "    random_state=0\n",
        ")\n",
        "clf.fit(X_train, y_train)\n",
        "\n",
        "# Make predictions and compute accuracy\n",
        "y_pred = clf.predict(X_test)\n",
        "acc = accuracy_score(y_test, y_pred)\n",
        "\n",
        "print(f\"Decision Tree trained with entropy splitting\")\n",
        "print(f\"Accuracy on test set: {acc:.3f}\")\n",
        "\n",
        "# (Optional) show a table of feature importances\n",
        "importances = clf.feature_importances_\n",
        "feature_names = data.feature_names\n",
        "importance_df = pd.DataFrame({\n",
        "    \"feature\": feature_names,\n",
        "    \"importance\": np.round(importances, 3)\n",
        "}).sort_values(\"importance\", ascending=False)\n",
        "\n",
        "print(\"\\nFeature importances (normalized):\")\n",
        "print(importance_df.to_string(index=False))\n"
      ],
      "metadata": {
        "colab": {
          "base_uri": "https://localhost:8080/"
        },
        "id": "JPTj1680H4g5",
        "outputId": "25e80b60-d96d-486b-efd1-8cfd6f44ccd6"
      },
      "execution_count": 4,
      "outputs": [
        {
          "output_type": "stream",
          "name": "stdout",
          "text": [
            "Decision Tree trained with entropy splitting\n",
            "Accuracy on test set: 0.967\n",
            "\n",
            "Feature importances (normalized):\n",
            "          feature  importance\n",
            " petal width (cm)       0.893\n",
            "petal length (cm)       0.086\n",
            " sepal width (cm)       0.014\n",
            "sepal length (cm)       0.007\n"
          ]
        }
      ]
    },
    {
      "cell_type": "code",
      "source": [
        "#Que 4  Write a Python program to train a Decision Tree Regressor on a housing dataset and evaluate using Mean\n",
        "#       Squared Error (MSE)\n",
        "\n",
        "import numpy as np\n",
        "import pandas as pd\n",
        "\n",
        "from sklearn.datasets import fetch_california_housing\n",
        "from sklearn.model_selection import train_test_split\n",
        "from sklearn.tree import DecisionTreeRegressor\n",
        "from sklearn.metrics import mean_squared_error\n",
        "\n",
        "# — 1. Load the California housing data\n",
        "# Available via sklearn, target is median house value (in units of $100k)\n",
        "dataset = fetch_california_housing(as_frame=True)\n",
        "X = dataset.frame.iloc[:, :-1]  # all feature columns\n",
        "y = dataset.frame.iloc[:, -1]   # target column (median_value)\n",
        "\n",
        "print(f\"Loaded California housing repository: {X.shape[0]} samples, {X.shape[1]} features\")\n",
        "\n",
        "# — 2. Train/test split (80% train, 20% test)\n",
        "X_train, X_test, y_train, y_test = train_test_split(\n",
        "    X, y, test_size=0.20, random_state=42\n",
        ")\n",
        "\n",
        "# — 3. Initialize Decision Tree Regressor\n",
        "# criterion='squared_error' corresponds to minimizing MSE (L2 loss)\n",
        "model = DecisionTreeRegressor(criterion=\"squared_error\", random_state=0)\n",
        "\n",
        "# — 4. Fit the model\n",
        "model.fit(X_train, y_train)\n",
        "\n",
        "# — 5. Make predictions on the test set\n",
        "y_pred = model.predict(X_test)\n",
        "\n",
        "# — 6. Evaluate using Mean Squared Error\n",
        "mse = mean_squared_error(y_test, y_pred)\n",
        "print(f\"\\nDecisionTreeRegressor performance on held-out test set:\")\n",
        "print(f\" • Mean Squared Error (MSE): {mse:.4f}\")\n",
        "\n",
        "# — Optional bonus: print R² and feature importances\n",
        "print(f\" • R² score      : {model.score(X_test, y_test):.4f}\")\n",
        "\n",
        "fi_df = (\n",
        "    pd.DataFrame({\n",
        "        \"feature\": dataset.feature_names,\n",
        "        \"importance\": model.feature_importances_\n",
        "    })\n",
        "    .sort_values(\"importance\", ascending=False)\n",
        "    .reset_index(drop=True)\n",
        ")\n",
        "\n",
        "print(\"\\nFeature importances (normalized):\")\n",
        "print(fi_df.to_string(index=False))\n"
      ],
      "metadata": {
        "colab": {
          "base_uri": "https://localhost:8080/"
        },
        "id": "UwREISUCINT2",
        "outputId": "00f8607d-1aad-43ad-efbf-efb844a5b1b0"
      },
      "execution_count": 5,
      "outputs": [
        {
          "output_type": "stream",
          "name": "stdout",
          "text": [
            "Loaded California housing repository: 20640 samples, 8 features\n",
            "\n",
            "DecisionTreeRegressor performance on held-out test set:\n",
            " • Mean Squared Error (MSE): 0.5008\n",
            " • R² score      : 0.6178\n",
            "\n",
            "Feature importances (normalized):\n",
            "   feature  importance\n",
            "    MedInc    0.528463\n",
            "  AveOccup    0.130016\n",
            "  Latitude    0.094601\n",
            " Longitude    0.082248\n",
            "  AveRooms    0.053818\n",
            "  HouseAge    0.052329\n",
            "Population    0.031077\n",
            " AveBedrms    0.027447\n"
          ]
        }
      ]
    },
    {
      "cell_type": "code",
      "source": [
        "#Que 5 Write a Python program to train a Decision Tree Classifier and visualize the tree using graphviz\n",
        "\n",
        "from sklearn.datasets import load_iris\n",
        "from sklearn.tree import DecisionTreeClassifier, export_graphviz\n",
        "import graphviz\n",
        "\n",
        "# Load the iris dataset\n",
        "iris = load_iris()\n",
        "X = iris.data\n",
        "y = iris.target\n",
        "\n",
        "# Create and train the Decision Tree Classifier\n",
        "clf = DecisionTreeClassifier(random_state=42)\n",
        "clf.fit(X, y)\n",
        "\n",
        "# Export the tree to a dot file\n",
        "dot_data = export_graphviz(clf, out_file=None,\n",
        "                           feature_names=iris.feature_names,\n",
        "                           class_names=iris.target_names,\n",
        "                           filled=True, rounded=True,\n",
        "                           special_characters=True)\n",
        "\n",
        "# Create a graph from the dot data\n",
        "graph = graphviz.Source(dot_data)\n",
        "\n",
        "# Display the graph\n",
        "graph"
      ],
      "metadata": {
        "colab": {
          "base_uri": "https://localhost:8080/",
          "height": 916
        },
        "id": "MuSqvN8PImWJ",
        "outputId": "9898f88b-6c22-4e03-b298-4b9d0f97b837"
      },
      "execution_count": 6,
      "outputs": [
        {
          "output_type": "execute_result",
          "data": {
            "image/svg+xml": "<?xml version=\"1.0\" encoding=\"UTF-8\" standalone=\"no\"?>\n<!DOCTYPE svg PUBLIC \"-//W3C//DTD SVG 1.1//EN\"\n \"http://www.w3.org/Graphics/SVG/1.1/DTD/svg11.dtd\">\n<!-- Generated by graphviz version 2.43.0 (0)\n -->\n<!-- Title: Tree Pages: 1 -->\n<svg width=\"863pt\" height=\"671pt\"\n viewBox=\"0.00 0.00 863.00 671.00\" xmlns=\"http://www.w3.org/2000/svg\" xmlns:xlink=\"http://www.w3.org/1999/xlink\">\n<g id=\"graph0\" class=\"graph\" transform=\"scale(1 1) rotate(0) translate(4 667)\">\n<title>Tree</title>\n<polygon fill=\"white\" stroke=\"transparent\" points=\"-4,4 -4,-667 859,-667 859,4 -4,4\"/>\n<!-- 0 -->\n<g id=\"node1\" class=\"node\">\n<title>0</title>\n<path fill=\"#ffffff\" stroke=\"black\" d=\"M517,-663C517,-663 382,-663 382,-663 376,-663 370,-657 370,-651 370,-651 370,-592 370,-592 370,-586 376,-580 382,-580 382,-580 517,-580 517,-580 523,-580 529,-586 529,-592 529,-592 529,-651 529,-651 529,-657 523,-663 517,-663\"/>\n<text text-anchor=\"start\" x=\"378\" y=\"-647.8\" font-family=\"Helvetica,sans-Serif\" font-size=\"14.00\">petal length (cm) ≤ 2.45</text>\n<text text-anchor=\"start\" x=\"414\" y=\"-632.8\" font-family=\"Helvetica,sans-Serif\" font-size=\"14.00\">gini = 0.667</text>\n<text text-anchor=\"start\" x=\"404.5\" y=\"-617.8\" font-family=\"Helvetica,sans-Serif\" font-size=\"14.00\">samples = 150</text>\n<text text-anchor=\"start\" x=\"391.5\" y=\"-602.8\" font-family=\"Helvetica,sans-Serif\" font-size=\"14.00\">value = [50, 50, 50]</text>\n<text text-anchor=\"start\" x=\"406\" y=\"-587.8\" font-family=\"Helvetica,sans-Serif\" font-size=\"14.00\">class = setosa</text>\n</g>\n<!-- 1 -->\n<g id=\"node2\" class=\"node\">\n<title>1</title>\n<path fill=\"#e58139\" stroke=\"black\" d=\"M419,-536.5C419,-536.5 326,-536.5 326,-536.5 320,-536.5 314,-530.5 314,-524.5 314,-524.5 314,-480.5 314,-480.5 314,-474.5 320,-468.5 326,-468.5 326,-468.5 419,-468.5 419,-468.5 425,-468.5 431,-474.5 431,-480.5 431,-480.5 431,-524.5 431,-524.5 431,-530.5 425,-536.5 419,-536.5\"/>\n<text text-anchor=\"start\" x=\"344.5\" y=\"-521.3\" font-family=\"Helvetica,sans-Serif\" font-size=\"14.00\">gini = 0.0</text>\n<text text-anchor=\"start\" x=\"331.5\" y=\"-506.3\" font-family=\"Helvetica,sans-Serif\" font-size=\"14.00\">samples = 50</text>\n<text text-anchor=\"start\" x=\"322\" y=\"-491.3\" font-family=\"Helvetica,sans-Serif\" font-size=\"14.00\">value = [50, 0, 0]</text>\n<text text-anchor=\"start\" x=\"329\" y=\"-476.3\" font-family=\"Helvetica,sans-Serif\" font-size=\"14.00\">class = setosa</text>\n</g>\n<!-- 0&#45;&gt;1 -->\n<g id=\"edge1\" class=\"edge\">\n<title>0&#45;&gt;1</title>\n<path fill=\"none\" stroke=\"black\" d=\"M422.79,-579.91C415.38,-568.65 407.33,-556.42 399.88,-545.11\"/>\n<polygon fill=\"black\" stroke=\"black\" points=\"402.75,-543.1 394.33,-536.67 396.9,-546.94 402.75,-543.1\"/>\n<text text-anchor=\"middle\" x=\"389.28\" y=\"-557.45\" font-family=\"Helvetica,sans-Serif\" font-size=\"14.00\">True</text>\n</g>\n<!-- 2 -->\n<g id=\"node3\" class=\"node\">\n<title>2</title>\n<path fill=\"#ffffff\" stroke=\"black\" d=\"M591.5,-544C591.5,-544 461.5,-544 461.5,-544 455.5,-544 449.5,-538 449.5,-532 449.5,-532 449.5,-473 449.5,-473 449.5,-467 455.5,-461 461.5,-461 461.5,-461 591.5,-461 591.5,-461 597.5,-461 603.5,-467 603.5,-473 603.5,-473 603.5,-532 603.5,-532 603.5,-538 597.5,-544 591.5,-544\"/>\n<text text-anchor=\"start\" x=\"457.5\" y=\"-528.8\" font-family=\"Helvetica,sans-Serif\" font-size=\"14.00\">petal width (cm) ≤ 1.75</text>\n<text text-anchor=\"start\" x=\"498.5\" y=\"-513.8\" font-family=\"Helvetica,sans-Serif\" font-size=\"14.00\">gini = 0.5</text>\n<text text-anchor=\"start\" x=\"481.5\" y=\"-498.8\" font-family=\"Helvetica,sans-Serif\" font-size=\"14.00\">samples = 100</text>\n<text text-anchor=\"start\" x=\"472\" y=\"-483.8\" font-family=\"Helvetica,sans-Serif\" font-size=\"14.00\">value = [0, 50, 50]</text>\n<text text-anchor=\"start\" x=\"474\" y=\"-468.8\" font-family=\"Helvetica,sans-Serif\" font-size=\"14.00\">class = versicolor</text>\n</g>\n<!-- 0&#45;&gt;2 -->\n<g id=\"edge2\" class=\"edge\">\n<title>0&#45;&gt;2</title>\n<path fill=\"none\" stroke=\"black\" d=\"M476.21,-579.91C482.01,-571.1 488.2,-561.7 494.18,-552.61\"/>\n<polygon fill=\"black\" stroke=\"black\" points=\"497.26,-554.3 499.83,-544.02 491.41,-550.45 497.26,-554.3\"/>\n<text text-anchor=\"middle\" x=\"504.88\" y=\"-564.81\" font-family=\"Helvetica,sans-Serif\" font-size=\"14.00\">False</text>\n</g>\n<!-- 3 -->\n<g id=\"node4\" class=\"node\">\n<title>3</title>\n<path fill=\"#4de88e\" stroke=\"black\" d=\"M482,-425C482,-425 347,-425 347,-425 341,-425 335,-419 335,-413 335,-413 335,-354 335,-354 335,-348 341,-342 347,-342 347,-342 482,-342 482,-342 488,-342 494,-348 494,-354 494,-354 494,-413 494,-413 494,-419 488,-425 482,-425\"/>\n<text text-anchor=\"start\" x=\"343\" y=\"-409.8\" font-family=\"Helvetica,sans-Serif\" font-size=\"14.00\">petal length (cm) ≤ 4.95</text>\n<text text-anchor=\"start\" x=\"379\" y=\"-394.8\" font-family=\"Helvetica,sans-Serif\" font-size=\"14.00\">gini = 0.168</text>\n<text text-anchor=\"start\" x=\"373.5\" y=\"-379.8\" font-family=\"Helvetica,sans-Serif\" font-size=\"14.00\">samples = 54</text>\n<text text-anchor=\"start\" x=\"364\" y=\"-364.8\" font-family=\"Helvetica,sans-Serif\" font-size=\"14.00\">value = [0, 49, 5]</text>\n<text text-anchor=\"start\" x=\"362\" y=\"-349.8\" font-family=\"Helvetica,sans-Serif\" font-size=\"14.00\">class = versicolor</text>\n</g>\n<!-- 2&#45;&gt;3 -->\n<g id=\"edge3\" class=\"edge\">\n<title>2&#45;&gt;3</title>\n<path fill=\"none\" stroke=\"black\" d=\"M487.64,-460.91C478.87,-451.74 469.47,-441.93 460.44,-432.49\"/>\n<polygon fill=\"black\" stroke=\"black\" points=\"462.73,-429.82 453.29,-425.02 457.68,-434.66 462.73,-429.82\"/>\n</g>\n<!-- 12 -->\n<g id=\"node13\" class=\"node\">\n<title>12</title>\n<path fill=\"#843de6\" stroke=\"black\" d=\"M706,-425C706,-425 571,-425 571,-425 565,-425 559,-419 559,-413 559,-413 559,-354 559,-354 559,-348 565,-342 571,-342 571,-342 706,-342 706,-342 712,-342 718,-348 718,-354 718,-354 718,-413 718,-413 718,-419 712,-425 706,-425\"/>\n<text text-anchor=\"start\" x=\"567\" y=\"-409.8\" font-family=\"Helvetica,sans-Serif\" font-size=\"14.00\">petal length (cm) ≤ 4.85</text>\n<text text-anchor=\"start\" x=\"603\" y=\"-394.8\" font-family=\"Helvetica,sans-Serif\" font-size=\"14.00\">gini = 0.043</text>\n<text text-anchor=\"start\" x=\"597.5\" y=\"-379.8\" font-family=\"Helvetica,sans-Serif\" font-size=\"14.00\">samples = 46</text>\n<text text-anchor=\"start\" x=\"588\" y=\"-364.8\" font-family=\"Helvetica,sans-Serif\" font-size=\"14.00\">value = [0, 1, 45]</text>\n<text text-anchor=\"start\" x=\"590\" y=\"-349.8\" font-family=\"Helvetica,sans-Serif\" font-size=\"14.00\">class = virginica</text>\n</g>\n<!-- 2&#45;&gt;12 -->\n<g id=\"edge12\" class=\"edge\">\n<title>2&#45;&gt;12</title>\n<path fill=\"none\" stroke=\"black\" d=\"M565.36,-460.91C574.13,-451.74 583.53,-441.93 592.56,-432.49\"/>\n<polygon fill=\"black\" stroke=\"black\" points=\"595.32,-434.66 599.71,-425.02 590.27,-429.82 595.32,-434.66\"/>\n</g>\n<!-- 4 -->\n<g id=\"node5\" class=\"node\">\n<title>4</title>\n<path fill=\"#3de684\" stroke=\"black\" d=\"M260.5,-306C260.5,-306 130.5,-306 130.5,-306 124.5,-306 118.5,-300 118.5,-294 118.5,-294 118.5,-235 118.5,-235 118.5,-229 124.5,-223 130.5,-223 130.5,-223 260.5,-223 260.5,-223 266.5,-223 272.5,-229 272.5,-235 272.5,-235 272.5,-294 272.5,-294 272.5,-300 266.5,-306 260.5,-306\"/>\n<text text-anchor=\"start\" x=\"126.5\" y=\"-290.8\" font-family=\"Helvetica,sans-Serif\" font-size=\"14.00\">petal width (cm) ≤ 1.65</text>\n<text text-anchor=\"start\" x=\"160\" y=\"-275.8\" font-family=\"Helvetica,sans-Serif\" font-size=\"14.00\">gini = 0.041</text>\n<text text-anchor=\"start\" x=\"154.5\" y=\"-260.8\" font-family=\"Helvetica,sans-Serif\" font-size=\"14.00\">samples = 48</text>\n<text text-anchor=\"start\" x=\"145\" y=\"-245.8\" font-family=\"Helvetica,sans-Serif\" font-size=\"14.00\">value = [0, 47, 1]</text>\n<text text-anchor=\"start\" x=\"143\" y=\"-230.8\" font-family=\"Helvetica,sans-Serif\" font-size=\"14.00\">class = versicolor</text>\n</g>\n<!-- 3&#45;&gt;4 -->\n<g id=\"edge4\" class=\"edge\">\n<title>3&#45;&gt;4</title>\n<path fill=\"none\" stroke=\"black\" d=\"M338.52,-341.91C319.75,-331.88 299.52,-321.07 280.36,-310.84\"/>\n<polygon fill=\"black\" stroke=\"black\" points=\"281.82,-307.65 271.35,-306.02 278.52,-313.82 281.82,-307.65\"/>\n</g>\n<!-- 7 -->\n<g id=\"node8\" class=\"node\">\n<title>7</title>\n<path fill=\"#c09cf2\" stroke=\"black\" d=\"M479.5,-306C479.5,-306 349.5,-306 349.5,-306 343.5,-306 337.5,-300 337.5,-294 337.5,-294 337.5,-235 337.5,-235 337.5,-229 343.5,-223 349.5,-223 349.5,-223 479.5,-223 479.5,-223 485.5,-223 491.5,-229 491.5,-235 491.5,-235 491.5,-294 491.5,-294 491.5,-300 485.5,-306 479.5,-306\"/>\n<text text-anchor=\"start\" x=\"345.5\" y=\"-290.8\" font-family=\"Helvetica,sans-Serif\" font-size=\"14.00\">petal width (cm) ≤ 1.55</text>\n<text text-anchor=\"start\" x=\"379\" y=\"-275.8\" font-family=\"Helvetica,sans-Serif\" font-size=\"14.00\">gini = 0.444</text>\n<text text-anchor=\"start\" x=\"377\" y=\"-260.8\" font-family=\"Helvetica,sans-Serif\" font-size=\"14.00\">samples = 6</text>\n<text text-anchor=\"start\" x=\"367.5\" y=\"-245.8\" font-family=\"Helvetica,sans-Serif\" font-size=\"14.00\">value = [0, 2, 4]</text>\n<text text-anchor=\"start\" x=\"366\" y=\"-230.8\" font-family=\"Helvetica,sans-Serif\" font-size=\"14.00\">class = virginica</text>\n</g>\n<!-- 3&#45;&gt;7 -->\n<g id=\"edge7\" class=\"edge\">\n<title>3&#45;&gt;7</title>\n<path fill=\"none\" stroke=\"black\" d=\"M414.5,-341.91C414.5,-333.65 414.5,-324.86 414.5,-316.3\"/>\n<polygon fill=\"black\" stroke=\"black\" points=\"418,-316.02 414.5,-306.02 411,-316.02 418,-316.02\"/>\n</g>\n<!-- 5 -->\n<g id=\"node6\" class=\"node\">\n<title>5</title>\n<path fill=\"#39e581\" stroke=\"black\" d=\"M109,-179.5C109,-179.5 12,-179.5 12,-179.5 6,-179.5 0,-173.5 0,-167.5 0,-167.5 0,-123.5 0,-123.5 0,-117.5 6,-111.5 12,-111.5 12,-111.5 109,-111.5 109,-111.5 115,-111.5 121,-117.5 121,-123.5 121,-123.5 121,-167.5 121,-167.5 121,-173.5 115,-179.5 109,-179.5\"/>\n<text text-anchor=\"start\" x=\"32.5\" y=\"-164.3\" font-family=\"Helvetica,sans-Serif\" font-size=\"14.00\">gini = 0.0</text>\n<text text-anchor=\"start\" x=\"19.5\" y=\"-149.3\" font-family=\"Helvetica,sans-Serif\" font-size=\"14.00\">samples = 47</text>\n<text text-anchor=\"start\" x=\"10\" y=\"-134.3\" font-family=\"Helvetica,sans-Serif\" font-size=\"14.00\">value = [0, 47, 0]</text>\n<text text-anchor=\"start\" x=\"8\" y=\"-119.3\" font-family=\"Helvetica,sans-Serif\" font-size=\"14.00\">class = versicolor</text>\n</g>\n<!-- 4&#45;&gt;5 -->\n<g id=\"edge5\" class=\"edge\">\n<title>4&#45;&gt;5</title>\n<path fill=\"none\" stroke=\"black\" d=\"M148.66,-222.91C135.04,-211.1 120.17,-198.22 106.6,-186.45\"/>\n<polygon fill=\"black\" stroke=\"black\" points=\"108.62,-183.57 98.77,-179.67 104.03,-188.86 108.62,-183.57\"/>\n</g>\n<!-- 6 -->\n<g id=\"node7\" class=\"node\">\n<title>6</title>\n<path fill=\"#8139e5\" stroke=\"black\" d=\"M240,-179.5C240,-179.5 151,-179.5 151,-179.5 145,-179.5 139,-173.5 139,-167.5 139,-167.5 139,-123.5 139,-123.5 139,-117.5 145,-111.5 151,-111.5 151,-111.5 240,-111.5 240,-111.5 246,-111.5 252,-117.5 252,-123.5 252,-123.5 252,-167.5 252,-167.5 252,-173.5 246,-179.5 240,-179.5\"/>\n<text text-anchor=\"start\" x=\"167.5\" y=\"-164.3\" font-family=\"Helvetica,sans-Serif\" font-size=\"14.00\">gini = 0.0</text>\n<text text-anchor=\"start\" x=\"158\" y=\"-149.3\" font-family=\"Helvetica,sans-Serif\" font-size=\"14.00\">samples = 1</text>\n<text text-anchor=\"start\" x=\"148.5\" y=\"-134.3\" font-family=\"Helvetica,sans-Serif\" font-size=\"14.00\">value = [0, 0, 1]</text>\n<text text-anchor=\"start\" x=\"147\" y=\"-119.3\" font-family=\"Helvetica,sans-Serif\" font-size=\"14.00\">class = virginica</text>\n</g>\n<!-- 4&#45;&gt;6 -->\n<g id=\"edge6\" class=\"edge\">\n<title>4&#45;&gt;6</title>\n<path fill=\"none\" stroke=\"black\" d=\"M195.5,-222.91C195.5,-212.2 195.5,-200.62 195.5,-189.78\"/>\n<polygon fill=\"black\" stroke=\"black\" points=\"199,-189.67 195.5,-179.67 192,-189.67 199,-189.67\"/>\n</g>\n<!-- 8 -->\n<g id=\"node9\" class=\"node\">\n<title>8</title>\n<path fill=\"#8139e5\" stroke=\"black\" d=\"M371,-179.5C371,-179.5 282,-179.5 282,-179.5 276,-179.5 270,-173.5 270,-167.5 270,-167.5 270,-123.5 270,-123.5 270,-117.5 276,-111.5 282,-111.5 282,-111.5 371,-111.5 371,-111.5 377,-111.5 383,-117.5 383,-123.5 383,-123.5 383,-167.5 383,-167.5 383,-173.5 377,-179.5 371,-179.5\"/>\n<text text-anchor=\"start\" x=\"298.5\" y=\"-164.3\" font-family=\"Helvetica,sans-Serif\" font-size=\"14.00\">gini = 0.0</text>\n<text text-anchor=\"start\" x=\"289\" y=\"-149.3\" font-family=\"Helvetica,sans-Serif\" font-size=\"14.00\">samples = 3</text>\n<text text-anchor=\"start\" x=\"279.5\" y=\"-134.3\" font-family=\"Helvetica,sans-Serif\" font-size=\"14.00\">value = [0, 0, 3]</text>\n<text text-anchor=\"start\" x=\"278\" y=\"-119.3\" font-family=\"Helvetica,sans-Serif\" font-size=\"14.00\">class = virginica</text>\n</g>\n<!-- 7&#45;&gt;8 -->\n<g id=\"edge8\" class=\"edge\">\n<title>7&#45;&gt;8</title>\n<path fill=\"none\" stroke=\"black\" d=\"M383.97,-222.91C375.42,-211.54 366.12,-199.18 357.54,-187.77\"/>\n<polygon fill=\"black\" stroke=\"black\" points=\"360.25,-185.55 351.45,-179.67 354.66,-189.76 360.25,-185.55\"/>\n</g>\n<!-- 9 -->\n<g id=\"node10\" class=\"node\">\n<title>9</title>\n<path fill=\"#9cf2c0\" stroke=\"black\" d=\"M548,-187C548,-187 413,-187 413,-187 407,-187 401,-181 401,-175 401,-175 401,-116 401,-116 401,-110 407,-104 413,-104 413,-104 548,-104 548,-104 554,-104 560,-110 560,-116 560,-116 560,-175 560,-175 560,-181 554,-187 548,-187\"/>\n<text text-anchor=\"start\" x=\"409\" y=\"-171.8\" font-family=\"Helvetica,sans-Serif\" font-size=\"14.00\">petal length (cm) ≤ 5.45</text>\n<text text-anchor=\"start\" x=\"445\" y=\"-156.8\" font-family=\"Helvetica,sans-Serif\" font-size=\"14.00\">gini = 0.444</text>\n<text text-anchor=\"start\" x=\"443\" y=\"-141.8\" font-family=\"Helvetica,sans-Serif\" font-size=\"14.00\">samples = 3</text>\n<text text-anchor=\"start\" x=\"433.5\" y=\"-126.8\" font-family=\"Helvetica,sans-Serif\" font-size=\"14.00\">value = [0, 2, 1]</text>\n<text text-anchor=\"start\" x=\"428\" y=\"-111.8\" font-family=\"Helvetica,sans-Serif\" font-size=\"14.00\">class = versicolor</text>\n</g>\n<!-- 7&#45;&gt;9 -->\n<g id=\"edge9\" class=\"edge\">\n<title>7&#45;&gt;9</title>\n<path fill=\"none\" stroke=\"black\" d=\"M437.4,-222.91C442.31,-214.2 447.56,-204.9 452.64,-195.89\"/>\n<polygon fill=\"black\" stroke=\"black\" points=\"455.78,-197.45 457.64,-187.02 449.68,-194.01 455.78,-197.45\"/>\n</g>\n<!-- 10 -->\n<g id=\"node11\" class=\"node\">\n<title>10</title>\n<path fill=\"#39e581\" stroke=\"black\" d=\"M461,-68C461,-68 364,-68 364,-68 358,-68 352,-62 352,-56 352,-56 352,-12 352,-12 352,-6 358,0 364,0 364,0 461,0 461,0 467,0 473,-6 473,-12 473,-12 473,-56 473,-56 473,-62 467,-68 461,-68\"/>\n<text text-anchor=\"start\" x=\"384.5\" y=\"-52.8\" font-family=\"Helvetica,sans-Serif\" font-size=\"14.00\">gini = 0.0</text>\n<text text-anchor=\"start\" x=\"375\" y=\"-37.8\" font-family=\"Helvetica,sans-Serif\" font-size=\"14.00\">samples = 2</text>\n<text text-anchor=\"start\" x=\"365.5\" y=\"-22.8\" font-family=\"Helvetica,sans-Serif\" font-size=\"14.00\">value = [0, 2, 0]</text>\n<text text-anchor=\"start\" x=\"360\" y=\"-7.8\" font-family=\"Helvetica,sans-Serif\" font-size=\"14.00\">class = versicolor</text>\n</g>\n<!-- 9&#45;&gt;10 -->\n<g id=\"edge10\" class=\"edge\">\n<title>9&#45;&gt;10</title>\n<path fill=\"none\" stroke=\"black\" d=\"M455.18,-103.73C449.74,-94.97 443.99,-85.7 438.52,-76.91\"/>\n<polygon fill=\"black\" stroke=\"black\" points=\"441.43,-74.95 433.18,-68.3 435.48,-78.64 441.43,-74.95\"/>\n</g>\n<!-- 11 -->\n<g id=\"node12\" class=\"node\">\n<title>11</title>\n<path fill=\"#8139e5\" stroke=\"black\" d=\"M592,-68C592,-68 503,-68 503,-68 497,-68 491,-62 491,-56 491,-56 491,-12 491,-12 491,-6 497,0 503,0 503,0 592,0 592,0 598,0 604,-6 604,-12 604,-12 604,-56 604,-56 604,-62 598,-68 592,-68\"/>\n<text text-anchor=\"start\" x=\"519.5\" y=\"-52.8\" font-family=\"Helvetica,sans-Serif\" font-size=\"14.00\">gini = 0.0</text>\n<text text-anchor=\"start\" x=\"510\" y=\"-37.8\" font-family=\"Helvetica,sans-Serif\" font-size=\"14.00\">samples = 1</text>\n<text text-anchor=\"start\" x=\"500.5\" y=\"-22.8\" font-family=\"Helvetica,sans-Serif\" font-size=\"14.00\">value = [0, 0, 1]</text>\n<text text-anchor=\"start\" x=\"499\" y=\"-7.8\" font-family=\"Helvetica,sans-Serif\" font-size=\"14.00\">class = virginica</text>\n</g>\n<!-- 9&#45;&gt;11 -->\n<g id=\"edge11\" class=\"edge\">\n<title>9&#45;&gt;11</title>\n<path fill=\"none\" stroke=\"black\" d=\"M505.45,-103.73C510.81,-94.97 516.48,-85.7 521.86,-76.91\"/>\n<polygon fill=\"black\" stroke=\"black\" points=\"524.89,-78.66 527.12,-68.3 518.92,-75 524.89,-78.66\"/>\n</g>\n<!-- 13 -->\n<g id=\"node14\" class=\"node\">\n<title>13</title>\n<path fill=\"#c09cf2\" stroke=\"black\" d=\"M707.5,-306C707.5,-306 569.5,-306 569.5,-306 563.5,-306 557.5,-300 557.5,-294 557.5,-294 557.5,-235 557.5,-235 557.5,-229 563.5,-223 569.5,-223 569.5,-223 707.5,-223 707.5,-223 713.5,-223 719.5,-229 719.5,-235 719.5,-235 719.5,-294 719.5,-294 719.5,-300 713.5,-306 707.5,-306\"/>\n<text text-anchor=\"start\" x=\"565.5\" y=\"-290.8\" font-family=\"Helvetica,sans-Serif\" font-size=\"14.00\">sepal length (cm) ≤ 5.95</text>\n<text text-anchor=\"start\" x=\"603\" y=\"-275.8\" font-family=\"Helvetica,sans-Serif\" font-size=\"14.00\">gini = 0.444</text>\n<text text-anchor=\"start\" x=\"601\" y=\"-260.8\" font-family=\"Helvetica,sans-Serif\" font-size=\"14.00\">samples = 3</text>\n<text text-anchor=\"start\" x=\"591.5\" y=\"-245.8\" font-family=\"Helvetica,sans-Serif\" font-size=\"14.00\">value = [0, 1, 2]</text>\n<text text-anchor=\"start\" x=\"590\" y=\"-230.8\" font-family=\"Helvetica,sans-Serif\" font-size=\"14.00\">class = virginica</text>\n</g>\n<!-- 12&#45;&gt;13 -->\n<g id=\"edge13\" class=\"edge\">\n<title>12&#45;&gt;13</title>\n<path fill=\"none\" stroke=\"black\" d=\"M638.5,-341.91C638.5,-333.65 638.5,-324.86 638.5,-316.3\"/>\n<polygon fill=\"black\" stroke=\"black\" points=\"642,-316.02 638.5,-306.02 635,-316.02 642,-316.02\"/>\n</g>\n<!-- 16 -->\n<g id=\"node17\" class=\"node\">\n<title>16</title>\n<path fill=\"#8139e5\" stroke=\"black\" d=\"M843,-298.5C843,-298.5 750,-298.5 750,-298.5 744,-298.5 738,-292.5 738,-286.5 738,-286.5 738,-242.5 738,-242.5 738,-236.5 744,-230.5 750,-230.5 750,-230.5 843,-230.5 843,-230.5 849,-230.5 855,-236.5 855,-242.5 855,-242.5 855,-286.5 855,-286.5 855,-292.5 849,-298.5 843,-298.5\"/>\n<text text-anchor=\"start\" x=\"768.5\" y=\"-283.3\" font-family=\"Helvetica,sans-Serif\" font-size=\"14.00\">gini = 0.0</text>\n<text text-anchor=\"start\" x=\"755.5\" y=\"-268.3\" font-family=\"Helvetica,sans-Serif\" font-size=\"14.00\">samples = 43</text>\n<text text-anchor=\"start\" x=\"746\" y=\"-253.3\" font-family=\"Helvetica,sans-Serif\" font-size=\"14.00\">value = [0, 0, 43]</text>\n<text text-anchor=\"start\" x=\"748\" y=\"-238.3\" font-family=\"Helvetica,sans-Serif\" font-size=\"14.00\">class = virginica</text>\n</g>\n<!-- 12&#45;&gt;16 -->\n<g id=\"edge16\" class=\"edge\">\n<title>12&#45;&gt;16</title>\n<path fill=\"none\" stroke=\"black\" d=\"M693.32,-341.91C709.56,-329.88 727.31,-316.73 743.44,-304.79\"/>\n<polygon fill=\"black\" stroke=\"black\" points=\"745.76,-307.43 751.71,-298.67 741.59,-301.81 745.76,-307.43\"/>\n</g>\n<!-- 14 -->\n<g id=\"node15\" class=\"node\">\n<title>14</title>\n<path fill=\"#39e581\" stroke=\"black\" d=\"M687,-179.5C687,-179.5 590,-179.5 590,-179.5 584,-179.5 578,-173.5 578,-167.5 578,-167.5 578,-123.5 578,-123.5 578,-117.5 584,-111.5 590,-111.5 590,-111.5 687,-111.5 687,-111.5 693,-111.5 699,-117.5 699,-123.5 699,-123.5 699,-167.5 699,-167.5 699,-173.5 693,-179.5 687,-179.5\"/>\n<text text-anchor=\"start\" x=\"610.5\" y=\"-164.3\" font-family=\"Helvetica,sans-Serif\" font-size=\"14.00\">gini = 0.0</text>\n<text text-anchor=\"start\" x=\"601\" y=\"-149.3\" font-family=\"Helvetica,sans-Serif\" font-size=\"14.00\">samples = 1</text>\n<text text-anchor=\"start\" x=\"591.5\" y=\"-134.3\" font-family=\"Helvetica,sans-Serif\" font-size=\"14.00\">value = [0, 1, 0]</text>\n<text text-anchor=\"start\" x=\"586\" y=\"-119.3\" font-family=\"Helvetica,sans-Serif\" font-size=\"14.00\">class = versicolor</text>\n</g>\n<!-- 13&#45;&gt;14 -->\n<g id=\"edge14\" class=\"edge\">\n<title>13&#45;&gt;14</title>\n<path fill=\"none\" stroke=\"black\" d=\"M638.5,-222.91C638.5,-212.2 638.5,-200.62 638.5,-189.78\"/>\n<polygon fill=\"black\" stroke=\"black\" points=\"642,-189.67 638.5,-179.67 635,-189.67 642,-189.67\"/>\n</g>\n<!-- 15 -->\n<g id=\"node16\" class=\"node\">\n<title>15</title>\n<path fill=\"#8139e5\" stroke=\"black\" d=\"M818,-179.5C818,-179.5 729,-179.5 729,-179.5 723,-179.5 717,-173.5 717,-167.5 717,-167.5 717,-123.5 717,-123.5 717,-117.5 723,-111.5 729,-111.5 729,-111.5 818,-111.5 818,-111.5 824,-111.5 830,-117.5 830,-123.5 830,-123.5 830,-167.5 830,-167.5 830,-173.5 824,-179.5 818,-179.5\"/>\n<text text-anchor=\"start\" x=\"745.5\" y=\"-164.3\" font-family=\"Helvetica,sans-Serif\" font-size=\"14.00\">gini = 0.0</text>\n<text text-anchor=\"start\" x=\"736\" y=\"-149.3\" font-family=\"Helvetica,sans-Serif\" font-size=\"14.00\">samples = 2</text>\n<text text-anchor=\"start\" x=\"726.5\" y=\"-134.3\" font-family=\"Helvetica,sans-Serif\" font-size=\"14.00\">value = [0, 0, 2]</text>\n<text text-anchor=\"start\" x=\"725\" y=\"-119.3\" font-family=\"Helvetica,sans-Serif\" font-size=\"14.00\">class = virginica</text>\n</g>\n<!-- 13&#45;&gt;15 -->\n<g id=\"edge15\" class=\"edge\">\n<title>13&#45;&gt;15</title>\n<path fill=\"none\" stroke=\"black\" d=\"M685.34,-222.91C698.96,-211.1 713.83,-198.22 727.4,-186.45\"/>\n<polygon fill=\"black\" stroke=\"black\" points=\"729.97,-188.86 735.23,-179.67 725.38,-183.57 729.97,-188.86\"/>\n</g>\n</g>\n</svg>\n",
            "text/plain": [
              "<graphviz.sources.Source at 0x7b19a969bf90>"
            ]
          },
          "metadata": {},
          "execution_count": 6
        }
      ]
    },
    {
      "cell_type": "code",
      "metadata": {
        "colab": {
          "base_uri": "https://localhost:8080/"
        },
        "id": "52815543",
        "outputId": "0d87e773-f239-41f8-aacb-3a93cffe4529"
      },
      "source": [
        "# Que 6 Write a Python program to train a Decision Tree Classifier with a maximum depth of 3 and compare its\n",
        "#       accuracy with a fully grown tree\n",
        "\n",
        "from sklearn.datasets import load_iris\n",
        "from sklearn.model_selection import train_test_split\n",
        "from sklearn.tree import DecisionTreeClassifier\n",
        "from sklearn.metrics import accuracy_score\n",
        "\n",
        "# Load the iris dataset\n",
        "iris = load_iris()\n",
        "X = iris.data\n",
        "y = iris.target\n",
        "\n",
        "# Split the dataset into training and testing sets\n",
        "X_train, X_test, y_train, y_test = train_test_split(X, y, test_size=0.3, random_state=42)\n",
        "\n",
        "# Train a Decision Tree with max_depth=3\n",
        "clf_depth_3 = DecisionTreeClassifier(max_depth=3, random_state=42)\n",
        "clf_depth_3.fit(X_train, y_train)\n",
        "y_pred_depth_3 = clf_depth_3.predict(X_test)\n",
        "accuracy_depth_3 = accuracy_score(y_test, y_pred_depth_3)\n",
        "print(f\"Accuracy of Decision Tree with max_depth=3: {accuracy_depth_3}\")\n",
        "\n",
        "# Train a fully grown Decision Tree\n",
        "clf_full = DecisionTreeClassifier(random_state=42)\n",
        "clf_full.fit(X_train, y_train)\n",
        "y_pred_full = clf_full.predict(X_test)\n",
        "accuracy_full = accuracy_score(y_test, y_pred_full)\n",
        "print(f\"Accuracy of fully grown Decision Tree: {accuracy_full}\")"
      ],
      "execution_count": 7,
      "outputs": [
        {
          "output_type": "stream",
          "name": "stdout",
          "text": [
            "Accuracy of Decision Tree with max_depth=3: 1.0\n",
            "Accuracy of fully grown Decision Tree: 1.0\n"
          ]
        }
      ]
    },
    {
      "cell_type": "code",
      "metadata": {
        "colab": {
          "base_uri": "https://localhost:8080/"
        },
        "id": "bfefb1ab",
        "outputId": "d890b257-8a4d-460a-80c0-ef2aea634ccd"
      },
      "source": [
        "# Que 7 Write a Python program to train a Decision Tree Classifier using min_samples_split=5 and compare its\n",
        "#       accuracy with a default tree\n",
        "\n",
        "from sklearn.datasets import load_iris\n",
        "from sklearn.model_selection import train_test_split\n",
        "from sklearn.tree import DecisionTreeClassifier\n",
        "from sklearn.metrics import accuracy_score\n",
        "\n",
        "# Load the iris dataset\n",
        "iris = load_iris()\n",
        "X = iris.data\n",
        "y = iris.target\n",
        "\n",
        "# Split the dataset into training and testing sets\n",
        "X_train, X_test, y_train, y_test = train_test_split(X, y, test_size=0.3, random_state=42)\n",
        "\n",
        "# Train a Decision Tree with min_samples_split=5\n",
        "clf_split_5 = DecisionTreeClassifier(min_samples_split=5, random_state=42)\n",
        "clf_split_5.fit(X_train, y_train)\n",
        "y_pred_split_5 = clf_split_5.predict(X_test)\n",
        "accuracy_split_5 = accuracy_score(y_test, y_pred_split_5)\n",
        "print(f\"Accuracy of Decision Tree with min_samples_split=5: {accuracy_split_5}\")\n",
        "\n",
        "# Train a fully grown Decision Tree\n",
        "clf_default = DecisionTreeClassifier(random_state=42)\n",
        "clf_default.fit(X_train, y_train)\n",
        "y_pred_default = clf_default.predict(X_test)\n",
        "accuracy_default = accuracy_score(y_test, y_pred_default)\n",
        "print(f\"Accuracy of default Decision Tree: {accuracy_default}\")"
      ],
      "execution_count": 8,
      "outputs": [
        {
          "output_type": "stream",
          "name": "stdout",
          "text": [
            "Accuracy of Decision Tree with min_samples_split=5: 1.0\n",
            "Accuracy of default Decision Tree: 1.0\n"
          ]
        }
      ]
    },
    {
      "cell_type": "code",
      "metadata": {
        "colab": {
          "base_uri": "https://localhost:8080/"
        },
        "id": "6bae7d0c",
        "outputId": "ac3240f0-ba3a-4671-a2f0-651a323761ee"
      },
      "source": [
        "# Que 8 Write a Python program to apply feature scaling before training a Decision Tree Classifier and compare its accuracy with unscaled data\n",
        "\n",
        "from sklearn.datasets import load_iris\n",
        "from sklearn.model_selection import train_test_split\n",
        "from sklearn.preprocessing import StandardScaler\n",
        "from sklearn.tree import DecisionTreeClassifier\n",
        "from sklearn.metrics import accuracy_score\n",
        "\n",
        "# Load the iris dataset\n",
        "iris = load_iris()\n",
        "X = iris.data\n",
        "y = iris.target\n",
        "\n",
        "# Split the dataset into training and testing sets\n",
        "X_train, X_test, y_train, y_test = train_test_split(X, y, test_size=0.3, random_state=42)\n",
        "\n",
        "# Train a Decision Tree on unscaled data\n",
        "clf_unscaled = DecisionTreeClassifier(random_state=42)\n",
        "clf_unscaled.fit(X_train, y_train)\n",
        "y_pred_unscaled = clf_unscaled.predict(X_test)\n",
        "accuracy_unscaled = accuracy_score(y_test, y_pred_unscaled)\n",
        "print(f\"Accuracy of Decision Tree with unscaled data: {accuracy_unscaled}\")\n",
        "\n",
        "# Apply feature scaling\n",
        "scaler = StandardScaler()\n",
        "X_train_scaled = scaler.fit_transform(X_train)\n",
        "X_test_scaled = scaler.transform(X_test)\n",
        "\n",
        "# Train a Decision Tree on scaled data\n",
        "clf_scaled = DecisionTreeClassifier(random_state=42)\n",
        "clf_scaled.fit(X_train_scaled, y_train)\n",
        "y_pred_scaled = clf_scaled.predict(X_test_scaled)\n",
        "accuracy_scaled = accuracy_score(y_test, y_pred_scaled)\n",
        "print(f\"Accuracy of Decision Tree with scaled data: {accuracy_scaled}\")"
      ],
      "execution_count": 9,
      "outputs": [
        {
          "output_type": "stream",
          "name": "stdout",
          "text": [
            "Accuracy of Decision Tree with unscaled data: 1.0\n",
            "Accuracy of Decision Tree with scaled data: 1.0\n"
          ]
        }
      ]
    },
    {
      "cell_type": "code",
      "metadata": {
        "id": "48cb9465"
      },
      "source": [
        "# Que 9 Write a Python program to train a Decision Tree Classifier using One-vs-Rest (OvR) strategy for multiclass\n",
        "# classification*\n",
        "\n",
        "from sklearn.datasets import load_iris\n",
        "from sklearn.model_selection import train_test_split\n",
        "from sklearn.tree import DecisionTreeClassifier\n",
        "from sklearn.multiclass import OneVsRestClassifier\n",
        "from sklearn.metrics import accuracy_score\n",
        "\n",
        "# Load the iris dataset\n",
        "iris = load_iris()\n",
        "X = iris.data\n",
        "y = iris.target\n",
        "\n",
        "# Split the dataset into training and testing sets\n",
        "X_train, X_test, y_train, y_test = train_test_split(X, y, test_size=0.3, random_state=42)\n",
        "\n",
        "# Create a Decision Tree Classifier object\n",
        "tree = DecisionTreeClassifier(random_state=42)\n",
        "\n",
        "# Create a One-vs-Rest classifier with the Decision Tree\n",
        "ovr_clf = OneVsRestClassifier(tree)\n",
        "\n",
        "# Train the classifier\n",
        "ovr_clf.fit(X_train, y_train)\n",
        "\n",
        "# Make predictions\n",
        "y_pred = ovr_clf.predict(X_test)\n",
        "\n",
        "# Calculate and print the accuracy\n",
        "accuracy = accuracy_score(y_test, y_pred)\n",
        "print(f\"Accuracy of Decision Tree with OvR strategy: {accuracy}\")"
      ],
      "execution_count": null,
      "outputs": []
    },
    {
      "cell_type": "code",
      "metadata": {
        "colab": {
          "base_uri": "https://localhost:8080/"
        },
        "id": "3dfd7bf5",
        "outputId": "6a7bffca-1eab-40eb-ae4d-109cbdea2a02"
      },
      "source": [
        "# Que 10 Write a Python program to train a Decision Tree Classifier and display the feature importance scores\n",
        "\n",
        "from sklearn.datasets import load_iris\n",
        "from sklearn.tree import DecisionTreeClassifier\n",
        "import pandas as pd\n",
        "\n",
        "# Load the iris dataset\n",
        "iris = load_iris()\n",
        "X = iris.data\n",
        "y = iris.target\n",
        "\n",
        "# Create and train the Decision Tree Classifier\n",
        "clf = DecisionTreeClassifier(random_state=42)\n",
        "clf.fit(X, y)\n",
        "\n",
        "# Get feature importances\n",
        "importances = clf.feature_importances_\n",
        "\n",
        "# Create a pandas DataFrame for better visualization\n",
        "feature_importances = pd.DataFrame({'feature': iris.feature_names, 'importance': importances})\n",
        "feature_importances = feature_importances.sort_values('importance', ascending=False)\n",
        "\n",
        "# Print the feature importances\n",
        "print(feature_importances)"
      ],
      "execution_count": 10,
      "outputs": [
        {
          "output_type": "stream",
          "name": "stdout",
          "text": [
            "             feature  importance\n",
            "2  petal length (cm)    0.564056\n",
            "3   petal width (cm)    0.422611\n",
            "0  sepal length (cm)    0.013333\n",
            "1   sepal width (cm)    0.000000\n"
          ]
        }
      ]
    },
    {
      "cell_type": "code",
      "metadata": {
        "colab": {
          "base_uri": "https://localhost:8080/"
        },
        "id": "80fb5e93",
        "outputId": "bd474dbf-96fa-408a-ba27-d78a4a3031b5"
      },
      "source": [
        "# Que 11 Write a Python program to train a Decision Tree Regressor with max_depth=5 and compare its performance\n",
        "# with an unrestricted tree*\n",
        "\n",
        "import numpy as np\n",
        "import pandas as pd\n",
        "\n",
        "from sklearn.datasets import fetch_california_housing\n",
        "from sklearn.model_selection import train_test_split\n",
        "from sklearn.tree import DecisionTreeRegressor\n",
        "from sklearn.metrics import mean_squared_error\n",
        "\n",
        "# — 1. Load the California housing data\n",
        "dataset = fetch_california_housing(as_frame=True)\n",
        "X = dataset.frame.iloc[:, :-1]\n",
        "y = dataset.frame.iloc[:, -1]\n",
        "\n",
        "# — 2. Train/test split (80% train, 20% test)\n",
        "X_train, X_test, y_train, y_test = train_test_split(\n",
        "    X, y, test_size=0.20, random_state=42\n",
        ")\n",
        "\n",
        "# — 3. Initialize and train Decision Tree Regressor with max_depth=5\n",
        "model_depth_5 = DecisionTreeRegressor(max_depth=5, random_state=0)\n",
        "model_depth_5.fit(X_train, y_train)\n",
        "y_pred_depth_5 = model_depth_5.predict(X_test)\n",
        "mse_depth_5 = mean_squared_error(y_test, y_pred_depth_5)\n",
        "print(f\"DecisionTreeRegressor with max_depth=5 MSE: {mse_depth_5:.4f}\")\n",
        "\n",
        "\n",
        "# — 4. Initialize and train unrestricted Decision Tree Regressor\n",
        "model_unrestricted = DecisionTreeRegressor(random_state=0)\n",
        "model_unrestricted.fit(X_train, y_train)\n",
        "y_pred_unrestricted = model_unrestricted.predict(X_test)\n",
        "mse_unrestricted = mean_squared_error(y_test, y_pred_unrestricted)\n",
        "print(f\"Unrestricted DecisionTreeRegressor MSE: {mse_unrestricted:.4f}\")"
      ],
      "execution_count": 11,
      "outputs": [
        {
          "output_type": "stream",
          "name": "stdout",
          "text": [
            "DecisionTreeRegressor with max_depth=5 MSE: 0.5245\n",
            "Unrestricted DecisionTreeRegressor MSE: 0.5008\n"
          ]
        }
      ]
    },
    {
      "cell_type": "code",
      "metadata": {
        "colab": {
          "base_uri": "https://localhost:8080/",
          "height": 600
        },
        "id": "fa7e88e9",
        "outputId": "6fe41e57-689e-4bde-9617-27456599fda7"
      },
      "source": [
        "# Que 12: Write a Python program to train a Decision Tree Classifier, apply Cost Complexity Pruning (CCP), and visualize its effect on accuracy\n",
        "\n",
        "import matplotlib.pyplot as plt\n",
        "from sklearn.datasets import load_iris\n",
        "from sklearn.model_selection import train_test_split\n",
        "from sklearn.tree import DecisionTreeClassifier\n",
        "from sklearn.metrics import accuracy_score\n",
        "\n",
        "# 1. Load the Iris dataset and split into training/testing sets\n",
        "iris = load_iris()\n",
        "X = iris.data\n",
        "y = iris.target\n",
        "X_train, X_test, y_train, y_test = train_test_split(X, y, random_state=42, test_size=0.3)\n",
        "\n",
        "# 2. Get the path for cost-complexity pruning\n",
        "# This function returns the effective alphas and the corresponding total leaf impurities\n",
        "clf = DecisionTreeClassifier(random_state=42)\n",
        "path = clf.cost_complexity_pruning_path(X_train, y_train)\n",
        "ccp_alphas, impurities = path.ccp_alphas, path.impurities\n",
        "\n",
        "# We'll remove the last alpha because it corresponds to a tree with only one node (the root)\n",
        "ccp_alphas = ccp_alphas[:-1]\n",
        "\n",
        "# 3. Train a decision tree for each alpha\n",
        "clfs = []\n",
        "for ccp_alpha in ccp_alphas:\n",
        "    clf = DecisionTreeClassifier(random_state=42, ccp_alpha=ccp_alpha)\n",
        "    clf.fit(X_train, y_train)\n",
        "    clfs.append(clf)\n",
        "\n",
        "# 4. Calculate accuracy on training and testing sets for each tree\n",
        "train_scores = [accuracy_score(y_train, clf.predict(X_train)) for clf in clfs]\n",
        "test_scores = [accuracy_score(y_test, clf.predict(X_test)) for clf in clfs]\n",
        "\n",
        "# 5. Find the alpha that maximizes the test set accuracy\n",
        "best_alpha_index = test_scores.index(max(test_scores))\n",
        "best_alpha = ccp_alphas[best_alpha_index]\n",
        "best_accuracy = max(test_scores)\n",
        "\n",
        "print(f\"Optimal alpha for pruning: {best_alpha:.4f}\")\n",
        "print(f\"Accuracy of the best pruned tree on the test set: {best_accuracy:.4f}\")\n",
        "\n",
        "\n",
        "# 6. Visualize the effect of alpha on accuracy\n",
        "fig, ax = plt.subplots(figsize=(10, 6))\n",
        "ax.set_xlabel(\"Effective alpha (ccp_alpha)\")\n",
        "ax.set_ylabel(\"Accuracy\")\n",
        "ax.set_title(\"Accuracy vs. effective alpha for training and testing sets\")\n",
        "ax.plot(ccp_alphas, train_scores, marker='o', label=\"train\", drawstyle=\"steps-post\")\n",
        "ax.plot(ccp_alphas, test_scores, marker='o', label=\"test\", drawstyle=\"steps-post\")\n",
        "ax.axvline(best_alpha, linestyle='--', color='red', label=f'Best Alpha ({best_alpha:.4f})')\n",
        "ax.legend()\n",
        "plt.grid()\n",
        "plt.show()"
      ],
      "execution_count": 12,
      "outputs": [
        {
          "output_type": "stream",
          "name": "stdout",
          "text": [
            "Optimal alpha for pruning: 0.0000\n",
            "Accuracy of the best pruned tree on the test set: 1.0000\n"
          ]
        },
        {
          "output_type": "display_data",
          "data": {
            "text/plain": [
              "<Figure size 1000x600 with 1 Axes>"
            ],
            "image/png": "[encoded data removed]"
          },
          "metadata": {}
        }
      ]
    },
    {
      "cell_type": "code",
      "metadata": {
        "colab": {
          "base_uri": "https://localhost:8080/"
        },
        "id": "836da3c6",
        "outputId": "765d47c8-c25a-41b2-b007-449c669e8c7c"
      },
      "source": [
        "# Que 13 Write a Python program to train a Decision Tree Classifier and evaluate its performance using Precision,\n",
        "# Recall, and F1-Score*\n",
        "\n",
        "from sklearn.datasets import load_iris\n",
        "from sklearn.model_selection import train_test_split\n",
        "from sklearn.tree import DecisionTreeClassifier\n",
        "from sklearn.metrics import classification_report\n",
        "\n",
        "# Load the iris dataset\n",
        "iris = load_iris()\n",
        "X = iris.data\n",
        "y = iris.target\n",
        "\n",
        "# Split the dataset into training and testing sets\n",
        "X_train, X_test, y_train, y_test = train_test_split(X, y, test_size=0.3, random_state=42)\n",
        "\n",
        "# Create and train the Decision Tree Classifier\n",
        "clf = DecisionTreeClassifier(random_state=42)\n",
        "clf.fit(X_train, y_train)\n",
        "\n",
        "# Make predictions on the test set\n",
        "y_pred = clf.predict(X_test)\n",
        "\n",
        "# Print the classification report\n",
        "print(classification_report(y_test, y_pred, target_names=iris.target_names))"
      ],
      "execution_count": 13,
      "outputs": [
        {
          "output_type": "stream",
          "name": "stdout",
          "text": [
            "              precision    recall  f1-score   support\n",
            "\n",
            "      setosa       1.00      1.00      1.00        19\n",
            "  versicolor       1.00      1.00      1.00        13\n",
            "   virginica       1.00      1.00      1.00        13\n",
            "\n",
            "    accuracy                           1.00        45\n",
            "   macro avg       1.00      1.00      1.00        45\n",
            "weighted avg       1.00      1.00      1.00        45\n",
            "\n"
          ]
        }
      ]
    },
    {
      "cell_type": "code",
      "metadata": {
        "colab": {
          "base_uri": "https://localhost:8080/",
          "height": 564
        },
        "id": "c5b40e24",
        "outputId": "5520b876-3325-4ce5-acb1-e6495ceed7c1"
      },
      "source": [
        "#Que 14  Write a Python program to train a Decision Tree Classifier and visualize the confusion matrix using seaborn\n",
        "\n",
        "from sklearn.datasets import load_iris\n",
        "from sklearn.model_selection import train_test_split\n",
        "from sklearn.tree import DecisionTreeClassifier\n",
        "from sklearn.metrics import confusion_matrix\n",
        "import seaborn as sns\n",
        "import matplotlib.pyplot as plt\n",
        "\n",
        "# Load the iris dataset\n",
        "iris = load_iris()\n",
        "X = iris.data\n",
        "y = iris.target\n",
        "\n",
        "# Split the dataset into training and testing sets\n",
        "X_train, X_test, y_train, y_test = train_test_split(X, y, test_size=0.3, random_state=42)\n",
        "\n",
        "# Create and train the Decision Tree Classifier\n",
        "clf = DecisionTreeClassifier(random_state=42)\n",
        "clf.fit(X_train, y_train)\n",
        "\n",
        "# Make predictions on the test set\n",
        "y_pred = clf.predict(X_test)\n",
        "\n",
        "# Calculate the confusion matrix\n",
        "cm = confusion_matrix(y_test, y_pred)\n",
        "\n",
        "# Visualize the confusion matrix\n",
        "plt.figure(figsize=(8, 6))\n",
        "sns.heatmap(cm, annot=True, fmt='d', cmap='Blues', xticklabels=iris.target_names, yticklabels=iris.target_names)\n",
        "plt.xlabel('Predicted')\n",
        "plt.ylabel('Actual')\n",
        "plt.title('Confusion Matrix')\n",
        "plt.show()"
      ],
      "execution_count": 14,
      "outputs": [
        {
          "output_type": "display_data",
          "data": {
            "text/plain": [
              "<Figure size 800x600 with 2 Axes>"
            ],
            "image/png": "[encoded data removed]"
          },
          "metadata": {}
        }
      ]
    },
    {
      "cell_type": "code",
      "metadata": {
        "colab": {
          "base_uri": "https://localhost:8080/"
        },
        "id": "3c5d5f3a",
        "outputId": "d15bd819-a7b1-4a11-8f10-214f1d68940b"
      },
      "source": [
        "#Que 15  Write a Python program to train a Decision Tree Classifier and use GridSearchCV to find the optimal values\n",
        "# for max_depth and min_samples_split.\n",
        "\n",
        "from sklearn.datasets import load_iris\n",
        "from sklearn.model_selection import train_test_split, GridSearchCV\n",
        "from sklearn.tree import DecisionTreeClassifier\n",
        "\n",
        "# Load the iris dataset\n",
        "iris = load_iris()\n",
        "X = iris.data\n",
        "y = iris.target\n",
        "\n",
        "# Split the dataset into training and testing sets\n",
        "X_train, X_test, y_train, y_test = train_test_split(X, y, test_size=0.3, random_state=42)\n",
        "\n",
        "# Create a Decision Tree Classifier object\n",
        "clf = DecisionTreeClassifier(random_state=42)\n",
        "\n",
        "# Define the parameter grid\n",
        "param_grid = {\n",
        "    'max_depth': [2, 3, 4, 5, None],\n",
        "    'min_samples_split': [2, 5, 10]\n",
        "}\n",
        "\n",
        "# Create a GridSearchCV object\n",
        "grid_search = GridSearchCV(estimator=clf, param_grid=param_grid, cv=5, n_jobs=-1, verbose=2)\n",
        "\n",
        "# Fit the GridSearchCV object to the data\n",
        "grid_search.fit(X_train, y_train)\n",
        "\n",
        "# Print the best parameters\n",
        "print(f\"Best parameters found: {grid_search.best_params_}\")\n",
        "\n",
        "# Get the best estimator\n",
        "best_clf = grid_search.best_estimator_\n",
        "\n",
        "# Evaluate the best estimator on the test set\n",
        "accuracy = best_clf.score(X_test, y_test)\n",
        "print(f\"Accuracy of the best model: {accuracy}\")"
      ],
      "execution_count": 15,
      "outputs": [
        {
          "output_type": "stream",
          "name": "stdout",
          "text": [
            "Fitting 5 folds for each of 15 candidates, totalling 75 fits\n",
            "Best parameters found: {'max_depth': 4, 'min_samples_split': 10}\n",
            "Accuracy of the best model: 1.0\n"
          ]
        }
      ]
    }
  ]
}